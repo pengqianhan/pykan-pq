{
 "cells": [
  {
   "cell_type": "code",
   "execution_count": 16,
   "metadata": {},
   "outputs": [
    {
     "name": "stdout",
     "output_type": "stream",
     "text": [
      "tensor_data.shape torch.Size([3375, 4])\n",
      "dataset['train_input'].shape torch.Size([2700, 3])\n"
     ]
    }
   ],
   "source": [
    "import pandas as pd\n",
    "import torch\n",
    "\n",
    "# Load the file path\n",
    "file_path = r\"C:\\Users\\phan635\\Downloads\\outputs.xls\"\n",
    "\n",
    "# Try reading the file as a TSV (tab-separated values) file\n",
    "data = pd.read_csv(file_path, sep='\\t', header=None)\n",
    "\n",
    "# Convert the pandas DataFrame to a PyTorch tensor\n",
    "tensor_data = torch.tensor(data.values, dtype=torch.float32)\n",
    "# Display the tensor data\n",
    "print('tensor_data.shape',tensor_data.shape)\n",
    "train_num = int(tensor_data.shape[0]*0.8)\n",
    "device = torch.device(\"cuda:0\" if torch.cuda.is_available() else \"cpu\")\n",
    "dataset = {}\n",
    "train_input = tensor_data[:train_num,:3]\n",
    "train_label = tensor_data[:train_num,3]\n",
    "test_input = tensor_data[train_num:,:3]\n",
    "test_label = tensor_data[train_num:,3]\n",
    "dataset = {'train_input': train_input, 'train_label': train_label, 'test_input': test_input, 'test_label': test_label}\n",
    "\n",
    "print(\"dataset['train_input'].shape\",dataset['train_input'].shape)"
   ]
  },
  {
   "cell_type": "code",
   "execution_count": 17,
   "metadata": {},
   "outputs": [
    {
     "name": "stderr",
     "output_type": "stream",
     "text": [
      "train loss: 9.24e-01 | test loss: 1.39e+00 | reg: 1.64e+01 : 100%|██| 20/20 [00:13<00:00,  1.45it/s]\n"
     ]
    },
    {
     "data": {
      "text/plain": [
       "{'train_loss': [array(0.92293113, dtype=float32),\n",
       "  array(0.9225354, dtype=float32),\n",
       "  array(0.9224335, dtype=float32),\n",
       "  array(0.9223662, dtype=float32),\n",
       "  array(0.92231536, dtype=float32),\n",
       "  array(0.9223123, dtype=float32),\n",
       "  array(0.9222459, dtype=float32),\n",
       "  array(0.9221949, dtype=float32),\n",
       "  array(0.9221546, dtype=float32),\n",
       "  array(0.9221676, dtype=float32),\n",
       "  array(0.92212296, dtype=float32),\n",
       "  array(0.92213625, dtype=float32),\n",
       "  array(0.9221458, dtype=float32),\n",
       "  array(0.922157, dtype=float32),\n",
       "  array(0.9221616, dtype=float32),\n",
       "  array(0.9268601, dtype=float32),\n",
       "  array(0.92637205, dtype=float32),\n",
       "  array(0.92595136, dtype=float32),\n",
       "  array(0.9251923, dtype=float32),\n",
       "  array(0.9242532, dtype=float32)],\n",
       " 'test_loss': [array(1.3354836, dtype=float32),\n",
       "  array(1.3173351, dtype=float32),\n",
       "  array(1.3459601, dtype=float32),\n",
       "  array(1.3492129, dtype=float32),\n",
       "  array(1.3415684, dtype=float32),\n",
       "  array(1.2169588, dtype=float32),\n",
       "  array(1.2299209, dtype=float32),\n",
       "  array(1.2461169, dtype=float32),\n",
       "  array(1.2678936, dtype=float32),\n",
       "  array(1.3520117, dtype=float32),\n",
       "  array(1.2812073, dtype=float32),\n",
       "  array(1.2961483, dtype=float32),\n",
       "  array(1.3004411, dtype=float32),\n",
       "  array(1.3148267, dtype=float32),\n",
       "  array(1.3335744, dtype=float32),\n",
       "  array(1.2035216, dtype=float32),\n",
       "  array(1.2512311, dtype=float32),\n",
       "  array(1.3600521, dtype=float32),\n",
       "  array(1.3752953, dtype=float32),\n",
       "  array(1.3886541, dtype=float32)],\n",
       " 'reg': [array(39.0824, dtype=float32),\n",
       "  array(34.952305, dtype=float32),\n",
       "  array(32.73494, dtype=float32),\n",
       "  array(29.990273, dtype=float32),\n",
       "  array(28.991158, dtype=float32),\n",
       "  array(28.400957, dtype=float32),\n",
       "  array(27.52273, dtype=float32),\n",
       "  array(26.917799, dtype=float32),\n",
       "  array(26.636492, dtype=float32),\n",
       "  array(25.337736, dtype=float32),\n",
       "  array(22.282026, dtype=float32),\n",
       "  array(20.488865, dtype=float32),\n",
       "  array(19.475721, dtype=float32),\n",
       "  array(18.850147, dtype=float32),\n",
       "  array(18.421814, dtype=float32),\n",
       "  array(20.693642, dtype=float32),\n",
       "  array(19.294176, dtype=float32),\n",
       "  array(17.271843, dtype=float32),\n",
       "  array(16.844664, dtype=float32),\n",
       "  array(16.40622, dtype=float32)]}"
      ]
     },
     "execution_count": 17,
     "metadata": {},
     "output_type": "execute_result"
    }
   ],
   "source": [
    "from kan import *\n",
    "# create a KAN: 2D inputs, 1D output, and 5 hidden neurons. cubic spline (k=3), 5 grid intervals (grid=5).\n",
    "model = KAN(width=[3,5,1], grid=5, k=3, seed=0)\n",
    "model.train(dataset, opt=\"LBFGS\", steps=20, lamb=0.01, lamb_entropy=10.)"
   ]
  },
  {
   "cell_type": "code",
   "execution_count": 19,
   "metadata": {},
   "outputs": [
    {
     "data": {
      "image/png": "[encoded data removed]",
      "text/plain": [
       "<Figure size 500x400 with 13 Axes>"
      ]
     },
     "metadata": {},
     "output_type": "display_data"
    }
   ],
   "source": [
    "model = model.prune()\n",
    "model(dataset['train_input'])\n",
    "model.plot()"
   ]
  },
  {
   "cell_type": "code",
   "execution_count": 20,
   "metadata": {},
   "outputs": [
    {
     "name": "stdout",
     "output_type": "stream",
     "text": [
      "fixing (0,0,0) with sin, r2=0.9984709024429321\n",
      "fixing (0,0,1) with gaussian, r2=0.9536946415901184\n",
      "fixing (0,0,2) with tan, r2=0.8223929405212402\n",
      "fixing (0,1,0) with 1/x, r2=0.8363654613494873\n",
      "fixing (0,1,1) with arctan, r2=0.7535078525543213\n",
      "fixing (0,1,2) with tan, r2=0.858582615852356\n",
      "fixing (0,2,0) with gaussian, r2=0.851507842540741\n",
      "fixing (0,2,1) with abs, r2=0.8036632537841797\n",
      "fixing (0,2,2) with gaussian, r2=0.8007346391677856\n",
      "fixing (1,0,0) with tan, r2=0.7404935359954834\n",
      "fixing (1,1,0) with 1/x^2, r2=0.9775971174240112\n",
      "fixing (1,2,0) with sgn, r2=0.6044548749923706\n"
     ]
    }
   ],
   "source": [
    "model.auto_symbolic()"
   ]
  },
  {
   "cell_type": "code",
   "execution_count": 22,
   "metadata": {},
   "outputs": [
    {
     "data": {
      "text/latex": [
       "$\\displaystyle -0.29 - \\frac{0.01}{\\left(0.03 \\operatorname{atan}{\\left(5.66 x_{2} + 6.72 \\right)} - 0.52 + e^{- 23.04 \\left(0.61 - x_{1}\\right)^{2}}\\right)^{2}}$"
      ],
      "text/plain": [
       "-0.29 - 0.e-2/(0.03*atan(5.66*x_2 + 6.72) - 0.52 + exp(-23.04*(0.61 - x_1)**2))**2"
      ]
     },
     "execution_count": 22,
     "metadata": {},
     "output_type": "execute_result"
    }
   ],
   "source": [
    "formula, variables = model.symbolic_formula()\n",
    "formula[0]"
   ]
  },
  {
   "cell_type": "code",
   "execution_count": null,
   "metadata": {},
   "outputs": [],
   "source": []
  }
 ],
 "metadata": {
  "kernelspec": {
   "display_name": "test_code",
   "language": "python",
   "name": "python3"
  },
  "language_info": {
   "codemirror_mode": {
    "name": "ipython",
    "version": 3
   },
   "file_extension": ".py",
   "mimetype": "text/x-python",
   "name": "python",
   "nbconvert_exporter": "python",
   "pygments_lexer": "ipython3",
   "version": "3.10.9"
  }
 },
 "nbformat": 4,
 "nbformat_minor": 2
}
