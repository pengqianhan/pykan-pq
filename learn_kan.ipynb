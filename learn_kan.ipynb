{
 "cells": [
  {
   "cell_type": "code",
   "execution_count": 1,
   "metadata": {},
   "outputs": [],
   "source": [
    "import torch\n",
    "\n",
    "def B_batch(x, grid, k=0, extend=True, device='cpu'):\n",
    "    '''\n",
    "    evaludate x on B-spline bases\n",
    "    \n",
    "    Args:\n",
    "    -----\n",
    "        x : 2D torch.tensor\n",
    "            inputs, shape (number of splines, number of samples)\n",
    "        grid : 2D torch.tensor\n",
    "            grids, shape (number of splines, number of grid points)\n",
    "        k : int\n",
    "            the piecewise polynomial order of splines.\n",
    "        extend : bool\n",
    "            If True, k points are extended on both ends. If False, no extension (zero boundary condition). Default: True\n",
    "        device : str\n",
    "            devicde\n",
    "    \n",
    "    Returns:\n",
    "    --------\n",
    "        spline values : 3D torch.tensor\n",
    "            shape (number of splines, number of B-spline bases (coeffcients), number of samples). The numbef of B-spline bases = number of grid points + k - 1.\n",
    "      \n",
    "    Example\n",
    "    -------\n",
    "    >>> num_spline = 5\n",
    "    >>> num_sample = 100\n",
    "    >>> num_grid_interval = 10\n",
    "    >>> k = 3\n",
    "    >>> x = torch.normal(0,1,size=(num_spline, num_sample))\n",
    "    >>> grids = torch.einsum('i,j->ij', torch.ones(num_spline,), torch.linspace(-1,1,steps=num_grid_interval+1))\n",
    "    >>> B_batch(x, grids, k=k).shape\n",
    "    torch.Size([5, 13, 100])\n",
    "    '''\n",
    "\n",
    "    # x shape: (size, x); grid shape: (size, grid)\n",
    "    def extend_grid(grid, k_extend=0):\n",
    "        # pad k to left and right\n",
    "        # grid shape: (batch, grid)\n",
    "        h = (grid[:, [-1]] - grid[:, [0]]) / (grid.shape[1] - 1)\n",
    "\n",
    "        for i in range(k_extend):\n",
    "            grid = torch.cat([grid[:, [0]] - h, grid], dim=1)\n",
    "            grid = torch.cat([grid, grid[:, [-1]] + h], dim=1)\n",
    "        grid = grid.to(device)\n",
    "        return grid\n",
    "\n",
    "    if extend == True:\n",
    "        grid = extend_grid(grid, k_extend=k)\n",
    "\n",
    "    grid = grid.unsqueeze(dim=2).to(device)\n",
    "    x = x.unsqueeze(dim=1).to(device)\n",
    "\n",
    "    if k == 0:\n",
    "        value = (x >= grid[:, :-1]) * (x < grid[:, 1:])\n",
    "    else:\n",
    "        B_km1 = B_batch(x[:, 0], grid=grid[:, :, 0], k=k - 1, extend=False, device=device)\n",
    "        value = (x - grid[:, :-(k + 1)]) / (grid[:, k:-1] - grid[:, :-(k + 1)]) * B_km1[:, :-1] + (grid[:, k + 1:] - x) / (grid[:, k + 1:] - grid[:, 1:(-k)]) * B_km1[:, 1:]\n",
    "    return value"
   ]
  },
  {
   "cell_type": "code",
   "execution_count": null,
   "metadata": {},
   "outputs": [],
   "source": []
  },
  {
   "cell_type": "code",
   "execution_count": 3,
   "metadata": {},
   "outputs": [
    {
     "name": "stdout",
     "output_type": "stream",
     "text": [
      "torch.Size([2, 6, 3])\n"
     ]
    }
   ],
   "source": [
    "import torch\n",
    "# from spline import B_batch\n",
    "\n",
    "# 创建输入x，形状为(2, 3)，表示有2个样条，每个样条有3个样本\n",
    "x = torch.tensor([[1.0, 2.0, 3.0], [4.0, 5.0, 6.0]])\n",
    "\n",
    "# 创建网格grid，形状为(2, 4)，表示有2个样条，每个样条有4个网格点\n",
    "grid = torch.tensor([[0.0, 1.0, 2.0, 3.0], [3.0, 4.0, 5.0, 6.0]])\n",
    "\n",
    "# 设置样条的分段多项式阶数为3\n",
    "k = 3\n",
    "\n",
    "# 调用B_batch函数\n",
    "result = B_batch(x, grid, k)\n",
    "\n",
    "# 打印结果\n",
    "print(result.shape)"
   ]
  },
  {
   "cell_type": "code",
   "execution_count": null,
   "metadata": {},
   "outputs": [],
   "source": []
  }
 ],
 "metadata": {
  "kernelspec": {
   "display_name": "Python 3",
   "language": "python",
   "name": "python3"
  },
  "language_info": {
   "codemirror_mode": {
    "name": "ipython",
    "version": 3
   },
   "file_extension": ".py",
   "mimetype": "text/x-python",
   "name": "python",
   "nbconvert_exporter": "python",
   "pygments_lexer": "ipython3",
   "version": "3.8.12"
  }
 },
 "nbformat": 4,
 "nbformat_minor": 2
}
